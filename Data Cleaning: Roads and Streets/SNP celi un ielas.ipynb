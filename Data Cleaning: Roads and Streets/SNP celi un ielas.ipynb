{
 "cells": [
  {
   "cell_type": "markdown",
   "id": "79a5f33a",
   "metadata": {},
   "source": [
    "# Datu tīrīšana\n"
   ]
  },
  {
   "cell_type": "markdown",
   "id": "88d4e600",
   "metadata": {},
   "source": [
    "Apstrādāšu Siguldas novada pašvaldības ceļu un ielu sarakstu, kas ir sadalīts četrās Excel darblapās: A ceļi, B ceļi, C ceļi un Ielas. Katra no šīm darblapām satur vairākas tabulas ar virsrakstiem un kopsavilkumiem, kur ceļi un ielas ir sadalīti pēc teritoriālā iedalījuma. Daudzi ceļi un ielas ir vēl sīkāk sadalīti posmos, kuros nosaukums ir norādīts tikai pirmajam posmam.\n",
    "\n",
    "Apvienošu visus datus vienā tabulā, izdalīšu teritoriālo iedalījumu atsevišķā kolonnā, identificēšu atzarus un katram ceļam vai ielai piešķiršu unikālu ID (jo nosaukumi mēdz atkārtoties).\n",
    "\n",
    "**Dati XLSX formātā pieejami šeit:** https://www.sigulda.lv/public/download.php?id=6266 "
   ]
  },
  {
   "cell_type": "code",
   "execution_count": 20,
   "id": "87965373",
   "metadata": {},
   "outputs": [],
   "source": [
    "import pandas as pd"
   ]
  },
  {
   "cell_type": "code",
   "execution_count": 21,
   "id": "2b0a332e",
   "metadata": {},
   "outputs": [],
   "source": [
    "# ielādēju datus no katras darblapas, atlasot tikai nepieciešamās kolonnas un piešķirot tām nosaukumus.\n",
    "# neiekļauju rindas, kur visas vērtības ir tukšas.\n",
    "\n",
    "url = 'https://www.sigulda.lv/public/download.php?id=6266'\n",
    "kol_nosaukumi = ['nosaukums', 'uzturesanas_klase', 'virsraksts', 'garums', 'segums']\n",
    "\n",
    "df1 = pd.read_excel(url, \n",
    "                    sheet_name='A ceļi', \n",
    "                    usecols='B:D, F, H', \n",
    "                    names=kol_nosaukumi)\\\n",
    "                    .dropna(how='all')\n",
    "\n",
    "df2 = pd.read_excel(url, \n",
    "                    sheet_name='B ceļi', \n",
    "                    usecols='B:D, F, H', \n",
    "                    names=kol_nosaukumi)\\\n",
    "                    .dropna(how='all')\n",
    "\n",
    "df3 = pd.read_excel(url, \n",
    "                    sheet_name='C ceļi', \n",
    "                    usecols='B:D, F, H', \n",
    "                    names=kol_nosaukumi)\\\n",
    "                    .dropna(how='all')\n",
    "\n",
    "df4 = pd.read_excel(url, \n",
    "                    sheet_name='Ielas', \n",
    "                    usecols='B:D, F, H', \n",
    "                    names=kol_nosaukumi)\\\n",
    "                    .dropna(how='all')\n",
    "\n",
    "\n",
    "# izveidoju jaunu kolonnu ceļu un ielu grupai\n",
    "df1.insert(1, 'grupa', 'A ceļš')\n",
    "df2.insert(1, 'grupa', 'B ceļš')\n",
    "df3.insert(1, 'grupa', 'C ceļš')\n",
    "df4.insert(1, 'grupa', 'Iela')\n",
    "\n",
    "\n",
    "# apvienoju datus vienā DataFrame\n",
    "df = pd.concat([df1, df2, df3, df4], ignore_index=True)"
   ]
  },
  {
   "cell_type": "code",
   "execution_count": 22,
   "id": "eae877a7",
   "metadata": {},
   "outputs": [
    {
     "data": {
      "text/plain": [
       "array(['Siguldas pagastā', 'raksturojošie parametri', nan,\n",
       "       'Allažu pagastā', 'Mālpils pagastā', 'Inčukalna pagastā',\n",
       "       'Krimuldas pagastā', 'Lēdurgas pagastā', 'Rihards Keišs',\n",
       "       'uzvārds )', 'domes izpilddirektors', 'Mores pagastā',\n",
       "       'Siguldas pilsētā', 'pilsētā (Peltēs)', 'pilsētā (Ķiparos)',\n",
       "       'pilsētā (Kalnabeitēs)', 'Matiņu ciemā', 'Vējupītes ciemā',\n",
       "       'Jūdažu ciemā', 'Mores ciemā', 'Allažu ciemā',\n",
       "       '(Siguldas pagastā)', 'Mālpils ciemā', 'Upmalu ciemā',\n",
       "       'Sidgundas ciemā', 'Inčukalna ciemā', 'Gaujas ciemā',\n",
       "       '(Inčukalna pagastā)', 'Krustiņu ciemā', 'Kļavu ciemā',\n",
       "       'Raganas ciemā', 'Inciema ciemā', 'Sunīšu ciemā', 'Turaidas ciemā',\n",
       "       'Lēdurgas ciemā', 'Lodes ciemā'], dtype=object)"
      ]
     },
     "execution_count": 22,
     "metadata": {},
     "output_type": "execute_result"
    }
   ],
   "source": [
    "# no kolonnas \"virsraksts\" izvelku teritorijas nosaukumu (divus pēdējos vārdus) un \n",
    "# saglabāju jaunā kolonnā \"teritorija\"\n",
    "\n",
    "split = df['virsraksts'].str.rsplit(n=2)\n",
    "df['teritorija'] = split.str[1] + \" \" + split.str[2]\n",
    "df = df.drop('virsraksts', axis=1)\n",
    "\n",
    "\n",
    "# apskatu unikālās vērtības kolonnā \"teritorija\"\n",
    "df.teritorija.unique()"
   ]
  },
  {
   "cell_type": "code",
   "execution_count": 23,
   "id": "243fe338",
   "metadata": {},
   "outputs": [],
   "source": [
    "# koriģēju locījumus: \"pagastā\" → \"pagasts\", \"ciemā\" → \"ciems\"\n",
    "df['teritorija'] = df['teritorija'].replace(r'(.*)pagastā$', r'\\1pagasts', regex=True)\n",
    "df['teritorija'] = df['teritorija'].replace(r'(.*)ciemā$', r'\\1ciems', regex=True)\n",
    "\n",
    "\n",
    "# koriģēju pilsētu un to rajonu nosaukumus\n",
    "df['teritorija'] = df['teritorija'].replace({'Siguldas pilsētā': 'Siguldas pilsēta', \n",
    "                                             'pilsētā (Peltēs)': 'Siguldas pilsēta (Peltes)', \n",
    "                                             'pilsētā (Ķiparos)': 'Siguldas pilsēta (Ķipari)', \n",
    "                                             'pilsētā (Kalnabeitēs)': 'Siguldas pilsēta (Kalnabeites)'})\n",
    "\n",
    "\n",
    "# koriģēju Egļupes ciema nosaukumus (atrodas divos pagastos)\n",
    "df['teritorija'] = df['teritorija'].replace({'(Siguldas pagastā)': 'Egļupes ciems (Allažu pag.)', \n",
    "                                             '(Inčukalna pagastā)': 'Egļupes ciems (Inčukalna pag.)'})\n"
   ]
  },
  {
   "cell_type": "code",
   "execution_count": 24,
   "id": "383ed2ca",
   "metadata": {},
   "outputs": [],
   "source": [
    "# izdzēšu visus neatbilstošos ierakstus kolonnā \"teritorija\":\n",
    "# kur nav norādīts \"pagasts\", \"pilsēta\" vai \"ciems\"\n",
    "df['teritorija'] = df['teritorija'].replace(r'^(?!.*pagasts|.*pilsēta|.*ciems).*$', pd.NA, regex=True)\n",
    "\n",
    "\n",
    "# aizpildu tukšās vērtības ar iepriekšējās rindas vērtību\n",
    "df['teritorija'] = df['teritorija'].ffill()"
   ]
  },
  {
   "cell_type": "code",
   "execution_count": 25,
   "id": "5ef90e34",
   "metadata": {},
   "outputs": [
    {
     "data": {
      "text/plain": [
       "array([nan, 'Uzturēšanas klase', 'C', 'D', 'B'], dtype=object)"
      ]
     },
     "execution_count": 25,
     "metadata": {},
     "output_type": "execute_result"
    }
   ],
   "source": [
    "# apskatu unikālās uzturēšanas klases\n",
    "df.uzturesanas_klase.unique()"
   ]
  },
  {
   "cell_type": "code",
   "execution_count": 26,
   "id": "28ba79b4",
   "metadata": {
    "scrolled": false
   },
   "outputs": [],
   "source": [
    "# saglabāju tikai tās rindas, kur uzturēšanas klase ir norādīta (C, D, B)\n",
    "uztur_klases = ['C', 'D', 'B']\n",
    "df = df.loc[df['uzturesanas_klase'].isin(uztur_klases)]"
   ]
  },
  {
   "cell_type": "code",
   "execution_count": 27,
   "id": "a5f0ec0b",
   "metadata": {
    "scrolled": false
   },
   "outputs": [],
   "source": [
    "# noņemu liekās atstarpes no nosaukumiem un aizpildu tukšās vērtības\n",
    "df['nosaukums'] = df['nosaukums'].str.strip().replace('', pd.NA)\n",
    "\n",
    "df.loc[:, 'nosaukums'] = df['nosaukums'].ffill()"
   ]
  },
  {
   "cell_type": "code",
   "execution_count": 28,
   "id": "d2bf8fe4",
   "metadata": {},
   "outputs": [
    {
     "data": {
      "text/plain": [
       "array(['grants', 'melnais', 'cits segums', 'bruģis', 'dubultā virsma',\n",
       "       'Grants'], dtype=object)"
      ]
     },
     "execution_count": 28,
     "metadata": {},
     "output_type": "execute_result"
    }
   ],
   "source": [
    "# apskatu unikālās vērtības kolonnā 'segums'\n",
    "df.segums.unique()"
   ]
  },
  {
   "cell_type": "code",
   "execution_count": 29,
   "id": "6ac65587",
   "metadata": {},
   "outputs": [],
   "source": [
    "# koriģēju dublikātus\n",
    "df['segums'] = df['segums'].replace('Grants', 'grants')"
   ]
  },
  {
   "cell_type": "code",
   "execution_count": 30,
   "id": "859d4d26",
   "metadata": {},
   "outputs": [],
   "source": [
    "# izveidoju jaunu kolonnu \"atzars\", lai identificētu atzaru posmus\n",
    "\n",
    "df['atzars'] = df['nosaukums'].str.contains('atzars', case=False)\n",
    "df['atzars'] = df['atzars'].fillna(False)"
   ]
  },
  {
   "cell_type": "code",
   "execution_count": 31,
   "id": "33b90669",
   "metadata": {},
   "outputs": [
    {
     "data": {
      "text/plain": [
       "(0, 7)"
      ]
     },
     "execution_count": 31,
     "metadata": {},
     "output_type": "execute_result"
    }
   ],
   "source": [
    "# pārbaudu, vai nav divi atzari pēc kārtas\n",
    "\n",
    "df.loc[(df['atzars'].shift(-1) == True) & (df['nosaukums'].str.contains('atzars', case=False))].shape"
   ]
  },
  {
   "cell_type": "code",
   "execution_count": 32,
   "id": "39fddd85",
   "metadata": {},
   "outputs": [],
   "source": [
    "# pārnesu iepriekšējās rindas nosaukumu uz atzaru rindām\n",
    "\n",
    "df.loc[df['atzars'] == True, 'nosaukums'] = df['nosaukums'].shift(1)"
   ]
  },
  {
   "cell_type": "code",
   "execution_count": 33,
   "id": "75a71d2b",
   "metadata": {},
   "outputs": [
    {
     "data": {
      "text/plain": [
       "767"
      ]
     },
     "execution_count": 33,
     "metadata": {},
     "output_type": "execute_result"
    }
   ],
   "source": [
    "# piešķiru unikālu ID katram ceļam/ielai, kombinējot nosaukumu ar teritoriju\n",
    "df['id'] = (df['nosaukums'] + df['teritorija']).factorize()[0] + 1\n",
    "\n",
    "# pārbaudu kopējo ceļu/ielu skaitu\n",
    "df['id'].nunique()"
   ]
  },
  {
   "cell_type": "code",
   "execution_count": 34,
   "id": "965af691",
   "metadata": {},
   "outputs": [
    {
     "data": {
      "text/plain": [
       "nosaukums            object\n",
       "grupa                object\n",
       "uzturesanas_klase    object\n",
       "garums               object\n",
       "segums               object\n",
       "teritorija           object\n",
       "atzars                 bool\n",
       "id                    int64\n",
       "dtype: object"
      ]
     },
     "execution_count": 34,
     "metadata": {},
     "output_type": "execute_result"
    }
   ],
   "source": [
    "# pārbaudu datu tipus\n",
    "df.dtypes"
   ]
  },
  {
   "cell_type": "code",
   "execution_count": 35,
   "id": "4f48fc07",
   "metadata": {},
   "outputs": [],
   "source": [
    "# konvertēju kolonnu \"garums\" uz skaitlisku (float) formātu\n",
    "df['garums'] = pd.to_numeric(df['garums'], errors=\"coerce\")"
   ]
  },
  {
   "cell_type": "code",
   "execution_count": 36,
   "id": "40544a1c",
   "metadata": {
    "scrolled": false
   },
   "outputs": [
    {
     "data": {
      "text/plain": [
       "nosaukums            0\n",
       "grupa                0\n",
       "uzturesanas_klase    0\n",
       "garums               0\n",
       "segums               0\n",
       "teritorija           0\n",
       "atzars               0\n",
       "id                   0\n",
       "dtype: int64"
      ]
     },
     "execution_count": 36,
     "metadata": {},
     "output_type": "execute_result"
    }
   ],
   "source": [
    "# pārbaudu, vai visas kolonnas ir aizpildītas\n",
    "df.isnull().sum()"
   ]
  },
  {
   "cell_type": "code",
   "execution_count": 37,
   "id": "320c998b",
   "metadata": {},
   "outputs": [
    {
     "data": {
      "text/html": [
       "<div>\n",
       "<style scoped>\n",
       "    .dataframe tbody tr th:only-of-type {\n",
       "        vertical-align: middle;\n",
       "    }\n",
       "\n",
       "    .dataframe tbody tr th {\n",
       "        vertical-align: top;\n",
       "    }\n",
       "\n",
       "    .dataframe thead th {\n",
       "        text-align: right;\n",
       "    }\n",
       "</style>\n",
       "<table border=\"1\" class=\"dataframe\">\n",
       "  <thead>\n",
       "    <tr style=\"text-align: right;\">\n",
       "      <th></th>\n",
       "      <th>nosaukums</th>\n",
       "      <th>grupa</th>\n",
       "      <th>uzturesanas_klase</th>\n",
       "      <th>garums</th>\n",
       "      <th>segums</th>\n",
       "      <th>teritorija</th>\n",
       "      <th>atzars</th>\n",
       "      <th>id</th>\n",
       "    </tr>\n",
       "  </thead>\n",
       "  <tbody>\n",
       "    <tr>\n",
       "      <th>0</th>\n",
       "      <td>9410 A2- Kundziņi- Muldas</td>\n",
       "      <td>A ceļš</td>\n",
       "      <td>C</td>\n",
       "      <td>3.130</td>\n",
       "      <td>grants</td>\n",
       "      <td>Siguldas pagasts</td>\n",
       "      <td>False</td>\n",
       "      <td>1</td>\n",
       "    </tr>\n",
       "    <tr>\n",
       "      <th>1</th>\n",
       "      <td>9410 A2- Kundziņi- Muldas</td>\n",
       "      <td>A ceļš</td>\n",
       "      <td>C</td>\n",
       "      <td>0.880</td>\n",
       "      <td>grants</td>\n",
       "      <td>Siguldas pagasts</td>\n",
       "      <td>False</td>\n",
       "      <td>1</td>\n",
       "    </tr>\n",
       "    <tr>\n",
       "      <th>2</th>\n",
       "      <td>9420 Stūrīši- Ezermalas (Jūdaži)</td>\n",
       "      <td>A ceļš</td>\n",
       "      <td>D</td>\n",
       "      <td>1.420</td>\n",
       "      <td>melnais</td>\n",
       "      <td>Siguldas pagasts</td>\n",
       "      <td>False</td>\n",
       "      <td>2</td>\n",
       "    </tr>\n",
       "    <tr>\n",
       "      <th>3</th>\n",
       "      <td>9433 P8- Limbas (Limbu ceļš)</td>\n",
       "      <td>A ceļš</td>\n",
       "      <td>C</td>\n",
       "      <td>0.970</td>\n",
       "      <td>melnais</td>\n",
       "      <td>Siguldas pagasts</td>\n",
       "      <td>False</td>\n",
       "      <td>3</td>\n",
       "    </tr>\n",
       "    <tr>\n",
       "      <th>4</th>\n",
       "      <td>4205 Egļupes ceļš</td>\n",
       "      <td>A ceļš</td>\n",
       "      <td>C</td>\n",
       "      <td>0.420</td>\n",
       "      <td>grants</td>\n",
       "      <td>Allažu pagasts</td>\n",
       "      <td>False</td>\n",
       "      <td>4</td>\n",
       "    </tr>\n",
       "    <tr>\n",
       "      <th>...</th>\n",
       "      <td>...</td>\n",
       "      <td>...</td>\n",
       "      <td>...</td>\n",
       "      <td>...</td>\n",
       "      <td>...</td>\n",
       "      <td>...</td>\n",
       "      <td>...</td>\n",
       "      <td>...</td>\n",
       "    </tr>\n",
       "    <tr>\n",
       "      <th>1187</th>\n",
       "      <td>Upes iela</td>\n",
       "      <td>Iela</td>\n",
       "      <td>D</td>\n",
       "      <td>0.195</td>\n",
       "      <td>grants</td>\n",
       "      <td>Lēdurgas ciems</td>\n",
       "      <td>False</td>\n",
       "      <td>764</td>\n",
       "    </tr>\n",
       "    <tr>\n",
       "      <th>1188</th>\n",
       "      <td>Upeskalna iela</td>\n",
       "      <td>Iela</td>\n",
       "      <td>D</td>\n",
       "      <td>0.177</td>\n",
       "      <td>grants</td>\n",
       "      <td>Lēdurgas ciems</td>\n",
       "      <td>False</td>\n",
       "      <td>765</td>\n",
       "    </tr>\n",
       "    <tr>\n",
       "      <th>1189</th>\n",
       "      <td>Upeskalna iela</td>\n",
       "      <td>Iela</td>\n",
       "      <td>D</td>\n",
       "      <td>0.053</td>\n",
       "      <td>grants</td>\n",
       "      <td>Lēdurgas ciems</td>\n",
       "      <td>False</td>\n",
       "      <td>765</td>\n",
       "    </tr>\n",
       "    <tr>\n",
       "      <th>1190</th>\n",
       "      <td>Vītolu iela</td>\n",
       "      <td>Iela</td>\n",
       "      <td>D</td>\n",
       "      <td>0.200</td>\n",
       "      <td>grants</td>\n",
       "      <td>Lodes ciems</td>\n",
       "      <td>False</td>\n",
       "      <td>766</td>\n",
       "    </tr>\n",
       "    <tr>\n",
       "      <th>1191</th>\n",
       "      <td>Zaļā iela</td>\n",
       "      <td>Iela</td>\n",
       "      <td>D</td>\n",
       "      <td>0.240</td>\n",
       "      <td>cits segums</td>\n",
       "      <td>Lodes ciems</td>\n",
       "      <td>False</td>\n",
       "      <td>767</td>\n",
       "    </tr>\n",
       "  </tbody>\n",
       "</table>\n",
       "<p>1192 rows × 8 columns</p>\n",
       "</div>"
      ],
      "text/plain": [
       "                             nosaukums   grupa uzturesanas_klase  garums  \\\n",
       "0            9410 A2- Kundziņi- Muldas  A ceļš                 C   3.130   \n",
       "1            9410 A2- Kundziņi- Muldas  A ceļš                 C   0.880   \n",
       "2     9420 Stūrīši- Ezermalas (Jūdaži)  A ceļš                 D   1.420   \n",
       "3         9433 P8- Limbas (Limbu ceļš)  A ceļš                 C   0.970   \n",
       "4                    4205 Egļupes ceļš  A ceļš                 C   0.420   \n",
       "...                                ...     ...               ...     ...   \n",
       "1187                         Upes iela    Iela                 D   0.195   \n",
       "1188                    Upeskalna iela    Iela                 D   0.177   \n",
       "1189                    Upeskalna iela    Iela                 D   0.053   \n",
       "1190                       Vītolu iela    Iela                 D   0.200   \n",
       "1191                         Zaļā iela    Iela                 D   0.240   \n",
       "\n",
       "           segums        teritorija  atzars   id  \n",
       "0          grants  Siguldas pagasts   False    1  \n",
       "1          grants  Siguldas pagasts   False    1  \n",
       "2         melnais  Siguldas pagasts   False    2  \n",
       "3         melnais  Siguldas pagasts   False    3  \n",
       "4          grants    Allažu pagasts   False    4  \n",
       "...           ...               ...     ...  ...  \n",
       "1187       grants    Lēdurgas ciems   False  764  \n",
       "1188       grants    Lēdurgas ciems   False  765  \n",
       "1189       grants    Lēdurgas ciems   False  765  \n",
       "1190       grants       Lodes ciems   False  766  \n",
       "1191  cits segums       Lodes ciems   False  767  \n",
       "\n",
       "[1192 rows x 8 columns]"
      ]
     },
     "execution_count": 37,
     "metadata": {},
     "output_type": "execute_result"
    }
   ],
   "source": [
    "# sakārtoju indeksus un iegūstu sakārtotu datu kopu\n",
    "\n",
    "df = df.reset_index(drop=True)\n",
    "df"
   ]
  },
  {
   "cell_type": "code",
   "execution_count": null,
   "id": "d724c2eb",
   "metadata": {},
   "outputs": [],
   "source": []
  }
 ],
 "metadata": {
  "kernelspec": {
   "display_name": "Python 3 (ipykernel)",
   "language": "python",
   "name": "python3"
  },
  "language_info": {
   "codemirror_mode": {
    "name": "ipython",
    "version": 3
   },
   "file_extension": ".py",
   "mimetype": "text/x-python",
   "name": "python",
   "nbconvert_exporter": "python",
   "pygments_lexer": "ipython3",
   "version": "3.11.5"
  }
 },
 "nbformat": 4,
 "nbformat_minor": 5
}
