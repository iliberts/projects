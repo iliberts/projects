{
 "cells": [
  {
   "cell_type": "markdown",
   "id": "1f21637d",
   "metadata": {},
   "source": [
    "# UZDEVUMI\n",
    "\n",
    "Šo uzdevumu izpildei nav nepieciešama situācijas analīze kartē vai manuāla ģeometrijas rediģēšana, tāpēc efektīvākai pieejai izvēlēšos Python, kas nodrošina pārskatāmu darbību izpildi un ļauj ērti veikt izmaiņas vai atkārtot procesus. Savukārt interaktīvās kartes izveidei izmantošu React Leaflet.\n",
    "\n",
    "#### Izmantotie dati.\n",
    "Latvijas Atvērto datu portāls.<br>\n",
    "Valsts adrešu reģistra atvērtie dati: https://data.gov.lv/dati/lv/dataset/varis-atvertie-dati \\\n",
    "Biotopi: https://data.gov.lv/dati/lv/dataset/aizsargajamas-dzivotnes-biotopi \\\n",
    "Mikroliegumi: https://data.gov.lv/dati/lv/dataset/mikroliegumi<br><br>\n",
    "LĢIA publiskā Vietvārdu datubāze: [saite](https://vietvardi.lgia.gov.lv/search?id=0&regionaID=0&rajonaID=0&veidi=purvs&nosaukDala=&nosExact=false&citataDala=false&nosOficial=false&nosNonAccent=false&nosLGIAApproved=false&sortInfo=1)<br>\n",
    "Kadastra telpiskie dati no ArcGIS platformas<br>"
   ]
  },
  {
   "cell_type": "code",
   "execution_count": 2,
   "id": "af19fc54",
   "metadata": {},
   "outputs": [],
   "source": [
    "import pandas as pd\n",
    "import numpy as np\n",
    "import geopandas\n",
    "\n",
    "import fiona\n",
    "\n",
    "from zipfile import ZipFile\n",
    "\n",
    "import seaborn as sns\n",
    "import matplotlib.pyplot as plt\n",
    "\n",
    "from matplotlib.patches import Patch\n",
    "from matplotlib.lines import Line2D"
   ]
  },
  {
   "cell_type": "markdown",
   "id": "f77c275d",
   "metadata": {},
   "source": [
    "# (1) Mikroliegumu pārskata karte\n"
   ]
  },
  {
   "cell_type": "code",
   "execution_count": 4,
   "id": "e946a591",
   "metadata": {},
   "outputs": [
    {
     "data": {
      "text/html": [
       "<div>\n",
       "<style scoped>\n",
       "    .dataframe tbody tr th:only-of-type {\n",
       "        vertical-align: middle;\n",
       "    }\n",
       "\n",
       "    .dataframe tbody tr th {\n",
       "        vertical-align: top;\n",
       "    }\n",
       "\n",
       "    .dataframe thead th {\n",
       "        text-align: right;\n",
       "    }\n",
       "</style>\n",
       "<table border=\"1\" class=\"dataframe\">\n",
       "  <thead>\n",
       "    <tr style=\"text-align: right;\">\n",
       "      <th></th>\n",
       "      <th>KODS</th>\n",
       "      <th>TIPS_CD</th>\n",
       "      <th>NOSAUKUMS</th>\n",
       "      <th>VKUR_CD</th>\n",
       "      <th>VKUR_TIPS</th>\n",
       "      <th>APSTIPR</th>\n",
       "      <th>APST_PAK</th>\n",
       "      <th>STATUSS</th>\n",
       "      <th>SORT_NOS</th>\n",
       "      <th>DAT_SAK</th>\n",
       "      <th>DAT_MOD</th>\n",
       "      <th>DAT_BEIG</th>\n",
       "      <th>ATRIB</th>\n",
       "      <th>STD</th>\n",
       "      <th>geometry</th>\n",
       "    </tr>\n",
       "  </thead>\n",
       "  <tbody>\n",
       "    <tr>\n",
       "      <th>0</th>\n",
       "      <td>100016421</td>\n",
       "      <td>113</td>\n",
       "      <td>Jēkabpils nov.</td>\n",
       "      <td>100000000</td>\n",
       "      <td>101</td>\n",
       "      <td>Y</td>\n",
       "      <td>252</td>\n",
       "      <td>EKS</td>\n",
       "      <td>Jēkabpils novads</td>\n",
       "      <td>2021.07.01</td>\n",
       "      <td>30.06.2021 17:39:21</td>\n",
       "      <td>None</td>\n",
       "      <td>0031000</td>\n",
       "      <td>Jēkabpils nov.</td>\n",
       "      <td>POLYGON ((648780.755 278157.384, 649193.907 27...</td>\n",
       "    </tr>\n",
       "    <tr>\n",
       "      <th>1</th>\n",
       "      <td>100016286</td>\n",
       "      <td>113</td>\n",
       "      <td>Valkas nov.</td>\n",
       "      <td>100000000</td>\n",
       "      <td>101</td>\n",
       "      <td>Y</td>\n",
       "      <td>252</td>\n",
       "      <td>EKS</td>\n",
       "      <td>Valkas novads</td>\n",
       "      <td>2009.07.01</td>\n",
       "      <td>03.08.2022 00:00:00</td>\n",
       "      <td>None</td>\n",
       "      <td>0053000</td>\n",
       "      <td>Valkas nov.</td>\n",
       "      <td>POLYGON ((622604.168 380954.353, 622574.825 38...</td>\n",
       "    </tr>\n",
       "    <tr>\n",
       "      <th>2</th>\n",
       "      <td>100016542</td>\n",
       "      <td>113</td>\n",
       "      <td>Rēzeknes nov.</td>\n",
       "      <td>100000000</td>\n",
       "      <td>101</td>\n",
       "      <td>Y</td>\n",
       "      <td>252</td>\n",
       "      <td>EKS</td>\n",
       "      <td>Rēzeknes novads</td>\n",
       "      <td>2021.07.01</td>\n",
       "      <td>30.06.2021 17:43:50</td>\n",
       "      <td>None</td>\n",
       "      <td>0043000</td>\n",
       "      <td>Rēzeknes nov.</td>\n",
       "      <td>POLYGON ((706963.768 234461.549, 706918.09 234...</td>\n",
       "    </tr>\n",
       "  </tbody>\n",
       "</table>\n",
       "</div>"
      ],
      "text/plain": [
       "        KODS  TIPS_CD       NOSAUKUMS    VKUR_CD  VKUR_TIPS APSTIPR  APST_PAK  \\\n",
       "0  100016421      113  Jēkabpils nov.  100000000        101       Y       252   \n",
       "1  100016286      113     Valkas nov.  100000000        101       Y       252   \n",
       "2  100016542      113   Rēzeknes nov.  100000000        101       Y       252   \n",
       "\n",
       "  STATUSS          SORT_NOS     DAT_SAK              DAT_MOD DAT_BEIG  \\\n",
       "0     EKS  Jēkabpils novads  2021.07.01  30.06.2021 17:39:21     None   \n",
       "1     EKS     Valkas novads  2009.07.01  03.08.2022 00:00:00     None   \n",
       "2     EKS   Rēzeknes novads  2021.07.01  30.06.2021 17:43:50     None   \n",
       "\n",
       "     ATRIB             STD                                           geometry  \n",
       "0  0031000  Jēkabpils nov.  POLYGON ((648780.755 278157.384, 649193.907 27...  \n",
       "1  0053000     Valkas nov.  POLYGON ((622604.168 380954.353, 622574.825 38...  \n",
       "2  0043000   Rēzeknes nov.  POLYGON ((706963.768 234461.549, 706918.09 234...  "
      ]
     },
     "execution_count": 4,
     "metadata": {},
     "output_type": "execute_result"
    }
   ],
   "source": [
    "# Lejupielādēju Valsts adrešu reģistra atvērtos telpiskos datus\n",
    "\n",
    "zip_data = 'aw_shp.zip'\n",
    "\n",
    "with ZipFile(zip_data, 'r') as archive:\n",
    "    file_list = archive.namelist()\n",
    "\n",
    "\n",
    "# Lai kartē būtu iespējams atsevišķi iekrāsot teritorijas bez mikroliegumiem, klāt pie novadiem pievienošu valstspilsētas\n",
    "novadi = geopandas.read_file(f'zip://{zip_data}!{'Novadi.shp'}')\n",
    "valstspilsētas = geopandas.read_file(f'zip://{zip_data}!{'Pilsetas.shp'}')\n",
    "\n",
    "# Izdalu tās valstspilsētas, kuras nav novadu teritoriālā iedalījuma vienības\n",
    "valstspilsētas = valstspilsētas.loc[~(\n",
    "    valstspilsētas['STD'].str.contains('nov.', regex=False) | valstspilsētas['STD'].str.contains('pag.', regex=False))]\n",
    "\n",
    "# Pievienoju 7 valstspilsētas pie novadu teritorijām\n",
    "novadi = pd.concat([novadi, valstspilsētas], ignore_index=True)\n",
    "\n",
    "novadi.head(3)"
   ]
  },
  {
   "cell_type": "code",
   "execution_count": 5,
   "id": "8229caec",
   "metadata": {},
   "outputs": [
    {
     "data": {
      "text/html": [
       "<div>\n",
       "<style scoped>\n",
       "    .dataframe tbody tr th:only-of-type {\n",
       "        vertical-align: middle;\n",
       "    }\n",
       "\n",
       "    .dataframe tbody tr th {\n",
       "        vertical-align: top;\n",
       "    }\n",
       "\n",
       "    .dataframe thead th {\n",
       "        text-align: right;\n",
       "    }\n",
       "</style>\n",
       "<table border=\"1\" class=\"dataframe\">\n",
       "  <thead>\n",
       "    <tr style=\"text-align: right;\">\n",
       "      <th></th>\n",
       "      <th>Novads</th>\n",
       "      <th>Novada platība</th>\n",
       "      <th>geometry</th>\n",
       "    </tr>\n",
       "  </thead>\n",
       "  <tbody>\n",
       "    <tr>\n",
       "      <th>0</th>\n",
       "      <td>Jēkabpils nov.</td>\n",
       "      <td>2994664907</td>\n",
       "      <td>POLYGON ((648780.755 278157.384, 649193.907 27...</td>\n",
       "    </tr>\n",
       "    <tr>\n",
       "      <th>1</th>\n",
       "      <td>Valkas nov.</td>\n",
       "      <td>908402345</td>\n",
       "      <td>POLYGON ((622604.168 380954.353, 622574.825 38...</td>\n",
       "    </tr>\n",
       "    <tr>\n",
       "      <th>2</th>\n",
       "      <td>Rēzeknes nov.</td>\n",
       "      <td>2811361559</td>\n",
       "      <td>POLYGON ((706963.768 234461.549, 706918.09 234...</td>\n",
       "    </tr>\n",
       "  </tbody>\n",
       "</table>\n",
       "</div>"
      ],
      "text/plain": [
       "           Novads  Novada platība  \\\n",
       "0  Jēkabpils nov.      2994664907   \n",
       "1     Valkas nov.       908402345   \n",
       "2   Rēzeknes nov.      2811361559   \n",
       "\n",
       "                                            geometry  \n",
       "0  POLYGON ((648780.755 278157.384, 649193.907 27...  \n",
       "1  POLYGON ((622604.168 380954.353, 622574.825 38...  \n",
       "2  POLYGON ((706963.768 234461.549, 706918.09 234...  "
      ]
     },
     "execution_count": 5,
     "metadata": {},
     "output_type": "execute_result"
    }
   ],
   "source": [
    "# Aprēķinu novadu teritoriju platību kvadrātmetros\n",
    "novadi['Novada platība'] = novadi['geometry'].area.astype('int64')\n",
    "\n",
    "# Saglabāju tikai nepieciešamās kolonnas un pārdēvēju nosaukumu\n",
    "novadi = novadi[['STD', 'Novada platība', 'geometry']]\n",
    "novadi = novadi.rename(columns={'STD': 'Novads'})\n",
    "\n",
    "novadi.head(3)"
   ]
  },
  {
   "cell_type": "code",
   "execution_count": 6,
   "id": "545c1fd7",
   "metadata": {},
   "outputs": [
    {
     "data": {
      "text/plain": [
       "['Mikroliegumi/Mikroliegumi.cpg',\n",
       " 'Mikroliegumi/Mikroliegumi.dbf',\n",
       " 'Mikroliegumi/Mikroliegumi.prj',\n",
       " 'Mikroliegumi/Mikroliegumi.sbn',\n",
       " 'Mikroliegumi/Mikroliegumi.sbx',\n",
       " 'Mikroliegumi/Mikroliegumi.shp',\n",
       " 'Mikroliegumi/Mikroliegumi.shp.xml',\n",
       " 'Mikroliegumi/Mikroliegumi.shx',\n",
       " 'Mikroliegumi/MikroliegumuBuferzonas.cpg',\n",
       " 'Mikroliegumi/MikroliegumuBuferzonas.dbf',\n",
       " 'Mikroliegumi/MikroliegumuBuferzonas.prj',\n",
       " 'Mikroliegumi/MikroliegumuBuferzonas.sbn',\n",
       " 'Mikroliegumi/MikroliegumuBuferzonas.sbx',\n",
       " 'Mikroliegumi/MikroliegumuBuferzonas.shp',\n",
       " 'Mikroliegumi/MikroliegumuBuferzonas.shp.xml',\n",
       " 'Mikroliegumi/MikroliegumuBuferzonas.shx']"
      ]
     },
     "execution_count": 6,
     "metadata": {},
     "output_type": "execute_result"
    }
   ],
   "source": [
    "# Lejupielādēju mikroliegumu telpiskos datus\n",
    "\n",
    "zip_mikroliegumi = 'mikroliegumi.zip'\n",
    "\n",
    "with ZipFile(zip_mikroliegumi, 'r') as archive:\n",
    "    file_list = archive.namelist()\n",
    "\n",
    "file_list"
   ]
  },
  {
   "cell_type": "code",
   "execution_count": 7,
   "id": "d0d6fca7",
   "metadata": {},
   "outputs": [
    {
     "data": {
      "text/html": [
       "<div>\n",
       "<style scoped>\n",
       "    .dataframe tbody tr th:only-of-type {\n",
       "        vertical-align: middle;\n",
       "    }\n",
       "\n",
       "    .dataframe tbody tr th {\n",
       "        vertical-align: top;\n",
       "    }\n",
       "\n",
       "    .dataframe thead th {\n",
       "        text-align: right;\n",
       "    }\n",
       "</style>\n",
       "<table border=\"1\" class=\"dataframe\">\n",
       "  <thead>\n",
       "    <tr style=\"text-align: right;\">\n",
       "      <th></th>\n",
       "      <th>ID</th>\n",
       "      <th>MR_OBJECT</th>\n",
       "      <th>BUFFERZONE</th>\n",
       "      <th>APPL_DATE</th>\n",
       "      <th>EXPERT_DAT</th>\n",
       "      <th>FROM_DATE</th>\n",
       "      <th>AREA_DOC</th>\n",
       "      <th>MRCODE</th>\n",
       "      <th>MR_TYPE</th>\n",
       "      <th>GlobalID</th>\n",
       "      <th>ATIS_CODE</th>\n",
       "      <th>ATIS_veids</th>\n",
       "      <th>Shape_Leng</th>\n",
       "      <th>Shape_Area</th>\n",
       "      <th>geometry</th>\n",
       "    </tr>\n",
       "  </thead>\n",
       "  <tbody>\n",
       "    <tr>\n",
       "      <th>0</th>\n",
       "      <td>1</td>\n",
       "      <td>2</td>\n",
       "      <td>0</td>\n",
       "      <td>2001-11-27</td>\n",
       "      <td>2001-11-27</td>\n",
       "      <td>2002-11-22</td>\n",
       "      <td>7.0</td>\n",
       "      <td>47</td>\n",
       "      <td>10</td>\n",
       "      <td>{BECCDA9A-A2B7-48AD-A483-F8C6A8E2EFC2}</td>\n",
       "      <td>7313100100</td>\n",
       "      <td>Mikrolieguma teritorija</td>\n",
       "      <td>5008.917622</td>\n",
       "      <td>71609.151391</td>\n",
       "      <td>POLYGON ((550479.299 253044.071, 550495.915 25...</td>\n",
       "    </tr>\n",
       "    <tr>\n",
       "      <th>1</th>\n",
       "      <td>7</td>\n",
       "      <td>3</td>\n",
       "      <td>1</td>\n",
       "      <td>2011-01-31</td>\n",
       "      <td>2011-01-31</td>\n",
       "      <td>2011-06-07</td>\n",
       "      <td>12.5</td>\n",
       "      <td>2058</td>\n",
       "      <td>4</td>\n",
       "      <td>{5AF4533E-1B0F-4811-8A89-CBEDBF5E9296}</td>\n",
       "      <td>7313100100</td>\n",
       "      <td>Mikrolieguma teritorija</td>\n",
       "      <td>1883.815289</td>\n",
       "      <td>125292.344500</td>\n",
       "      <td>POLYGON ((409814.21 279043.14, 409830.71 27897...</td>\n",
       "    </tr>\n",
       "    <tr>\n",
       "      <th>2</th>\n",
       "      <td>11</td>\n",
       "      <td>3</td>\n",
       "      <td>1</td>\n",
       "      <td>2010-03-23</td>\n",
       "      <td>2008-03-23</td>\n",
       "      <td>2011-04-15</td>\n",
       "      <td>26.8</td>\n",
       "      <td>2054</td>\n",
       "      <td>4</td>\n",
       "      <td>{6AD8E97F-A9C0-467B-810E-EE2AE0FF1631}</td>\n",
       "      <td>7313100100</td>\n",
       "      <td>Mikrolieguma teritorija</td>\n",
       "      <td>2306.468835</td>\n",
       "      <td>275353.545150</td>\n",
       "      <td>POLYGON ((534651.32 334765.92, 534655.52 33461...</td>\n",
       "    </tr>\n",
       "  </tbody>\n",
       "</table>\n",
       "</div>"
      ],
      "text/plain": [
       "   ID  MR_OBJECT  BUFFERZONE  APPL_DATE EXPERT_DAT  FROM_DATE  AREA_DOC  \\\n",
       "0   1          2           0 2001-11-27 2001-11-27 2002-11-22       7.0   \n",
       "1   7          3           1 2011-01-31 2011-01-31 2011-06-07      12.5   \n",
       "2  11          3           1 2010-03-23 2008-03-23 2011-04-15      26.8   \n",
       "\n",
       "   MRCODE  MR_TYPE                                GlobalID   ATIS_CODE  \\\n",
       "0      47       10  {BECCDA9A-A2B7-48AD-A483-F8C6A8E2EFC2}  7313100100   \n",
       "1    2058        4  {5AF4533E-1B0F-4811-8A89-CBEDBF5E9296}  7313100100   \n",
       "2    2054        4  {6AD8E97F-A9C0-467B-810E-EE2AE0FF1631}  7313100100   \n",
       "\n",
       "                ATIS_veids   Shape_Leng     Shape_Area  \\\n",
       "0  Mikrolieguma teritorija  5008.917622   71609.151391   \n",
       "1  Mikrolieguma teritorija  1883.815289  125292.344500   \n",
       "2  Mikrolieguma teritorija  2306.468835  275353.545150   \n",
       "\n",
       "                                            geometry  \n",
       "0  POLYGON ((550479.299 253044.071, 550495.915 25...  \n",
       "1  POLYGON ((409814.21 279043.14, 409830.71 27897...  \n",
       "2  POLYGON ((534651.32 334765.92, 534655.52 33461...  "
      ]
     },
     "execution_count": 7,
     "metadata": {},
     "output_type": "execute_result"
    }
   ],
   "source": [
    "# Ielādēju mikroliegumu ShapeFile\n",
    "mikroliegumi = geopandas.read_file(f'zip://{zip_mikroliegumi}!{'Mikroliegumi/Mikroliegumi.shp'}')\n",
    "mikroliegumi.head(3)"
   ]
  },
  {
   "cell_type": "code",
   "execution_count": 8,
   "id": "0149cb8e",
   "metadata": {},
   "outputs": [
    {
     "data": {
      "text/html": [
       "<div>\n",
       "<style scoped>\n",
       "    .dataframe tbody tr th:only-of-type {\n",
       "        vertical-align: middle;\n",
       "    }\n",
       "\n",
       "    .dataframe tbody tr th {\n",
       "        vertical-align: top;\n",
       "    }\n",
       "\n",
       "    .dataframe thead th {\n",
       "        text-align: right;\n",
       "    }\n",
       "</style>\n",
       "<table border=\"1\" class=\"dataframe\">\n",
       "  <thead>\n",
       "    <tr style=\"text-align: right;\">\n",
       "      <th></th>\n",
       "      <th>Novads</th>\n",
       "      <th>geometry</th>\n",
       "      <th>Novada platība</th>\n",
       "      <th>Mikroliegumu platība novadā</th>\n",
       "      <th>Procentuālais īpatsvars</th>\n",
       "    </tr>\n",
       "  </thead>\n",
       "  <tbody>\n",
       "    <tr>\n",
       "      <th>0</th>\n",
       "      <td>Aizkraukles nov.</td>\n",
       "      <td>MULTIPOLYGON (((563562.042 239301.269, 563563....</td>\n",
       "      <td>2272825567</td>\n",
       "      <td>25978856</td>\n",
       "      <td>1.143</td>\n",
       "    </tr>\n",
       "    <tr>\n",
       "      <th>1</th>\n",
       "      <td>Alūksnes nov.</td>\n",
       "      <td>MULTIPOLYGON (((681819.64 354478.88, 681833.34...</td>\n",
       "      <td>1697720266</td>\n",
       "      <td>35162502</td>\n",
       "      <td>2.071</td>\n",
       "    </tr>\n",
       "    <tr>\n",
       "      <th>2</th>\n",
       "      <td>Augšdaugavas nov.</td>\n",
       "      <td>MULTIPOLYGON (((634642.21 194442.72, 634632.99...</td>\n",
       "      <td>2523093354</td>\n",
       "      <td>7388318</td>\n",
       "      <td>0.293</td>\n",
       "    </tr>\n",
       "  </tbody>\n",
       "</table>\n",
       "</div>"
      ],
      "text/plain": [
       "              Novads                                           geometry  \\\n",
       "0   Aizkraukles nov.  MULTIPOLYGON (((563562.042 239301.269, 563563....   \n",
       "1      Alūksnes nov.  MULTIPOLYGON (((681819.64 354478.88, 681833.34...   \n",
       "2  Augšdaugavas nov.  MULTIPOLYGON (((634642.21 194442.72, 634632.99...   \n",
       "\n",
       "   Novada platība  Mikroliegumu platība novadā  Procentuālais īpatsvars  \n",
       "0      2272825567                     25978856                    1.143  \n",
       "1      1697720266                     35162502                    2.071  \n",
       "2      2523093354                      7388318                    0.293  "
      ]
     },
     "execution_count": 8,
     "metadata": {},
     "output_type": "execute_result"
    }
   ],
   "source": [
    "# Sadalu mikroliegumu teritorijas pa novadu robežām (telpiska pārklāšanās)\n",
    "mikroliegumi_novados = mikroliegumi.overlay(novadi, how='intersection', keep_geom_type=False)\n",
    "\n",
    "# Atlasu nepieciešamās kolonnas\n",
    "mikroliegumi_novados = mikroliegumi_novados[['Novads', 'Novada platība', 'geometry']]\n",
    "\n",
    "# Apvienoju mikroliegumus pēc novadiem, summējot platības\n",
    "mikroliegumi_novados = mikroliegumi_novados.dissolve('Novads', as_index=False)\n",
    "\n",
    "# Aprēķinu mikroliegumu platību novados kvadrātmetros \n",
    "mikroliegumi_novados['Mikroliegumu platība novadā'] = mikroliegumi_novados['geometry'].area.astype('int64')\n",
    "\n",
    "# Aprēķinu mikroliegumu procentuālo īpatsvaru katrā novadā\n",
    "mikroliegumi_novados['Procentuālais īpatsvars'] = \\\n",
    "            ((mikroliegumi_novados['Mikroliegumu platība novadā'] / mikroliegumi_novados['Novada platība']) * 100).round(3)\n",
    "\n",
    "mikroliegumi_novados.head(3)"
   ]
  },
  {
   "cell_type": "code",
   "execution_count": 9,
   "id": "b546e93c",
   "metadata": {},
   "outputs": [],
   "source": [
    "# Apvienoju aprēķinātos datus ar novadu ģeometriju, lai sagatavotu datus kartei\n",
    "dati_kartei = novadi.merge(mikroliegumi_novados[['Novads', 'Procentuālais īpatsvars']], how='outer', on='Novads')"
   ]
  },
  {
   "cell_type": "code",
   "execution_count": 11,
   "id": "5b253b4f",
   "metadata": {},
   "outputs": [
    {
     "data": {
      "image/png": "[encoded data removed]",
      "text/plain": [
       "<Figure size 2200x1000 with 2 Axes>"
      ]
     },
     "metadata": {},
     "output_type": "display_data"
    },
    {
     "data": {
      "text/html": [
       "<div>\n",
       "<style scoped>\n",
       "    .dataframe tbody tr th:only-of-type {\n",
       "        vertical-align: middle;\n",
       "    }\n",
       "\n",
       "    .dataframe tbody tr th {\n",
       "        vertical-align: top;\n",
       "    }\n",
       "\n",
       "    .dataframe thead th {\n",
       "        text-align: right;\n",
       "    }\n",
       "</style>\n",
       "<table border=\"1\" class=\"dataframe\">\n",
       "  <thead>\n",
       "    <tr style=\"text-align: right;\">\n",
       "      <th></th>\n",
       "      <th>Novads</th>\n",
       "      <th>Procentuālais īpatsvars</th>\n",
       "    </tr>\n",
       "  </thead>\n",
       "  <tbody>\n",
       "    <tr>\n",
       "      <th>0</th>\n",
       "      <td>Saulkrastu nov.</td>\n",
       "      <td>2.848</td>\n",
       "    </tr>\n",
       "    <tr>\n",
       "      <th>1</th>\n",
       "      <td>Alūksnes nov.</td>\n",
       "      <td>2.071</td>\n",
       "    </tr>\n",
       "    <tr>\n",
       "      <th>2</th>\n",
       "      <td>Valkas nov.</td>\n",
       "      <td>1.963</td>\n",
       "    </tr>\n",
       "    <tr>\n",
       "      <th>3</th>\n",
       "      <td>Ādažu nov.</td>\n",
       "      <td>1.789</td>\n",
       "    </tr>\n",
       "    <tr>\n",
       "      <th>4</th>\n",
       "      <td>Ventspils nov.</td>\n",
       "      <td>1.784</td>\n",
       "    </tr>\n",
       "    <tr>\n",
       "      <th>5</th>\n",
       "      <td>Gulbenes nov.</td>\n",
       "      <td>1.454</td>\n",
       "    </tr>\n",
       "    <tr>\n",
       "      <th>6</th>\n",
       "      <td>Ropažu nov.</td>\n",
       "      <td>1.302</td>\n",
       "    </tr>\n",
       "    <tr>\n",
       "      <th>7</th>\n",
       "      <td>Varakļānu nov.</td>\n",
       "      <td>1.189</td>\n",
       "    </tr>\n",
       "    <tr>\n",
       "      <th>8</th>\n",
       "      <td>Aizkraukles nov.</td>\n",
       "      <td>1.143</td>\n",
       "    </tr>\n",
       "    <tr>\n",
       "      <th>9</th>\n",
       "      <td>Balvu nov.</td>\n",
       "      <td>1.110</td>\n",
       "    </tr>\n",
       "    <tr>\n",
       "      <th>10</th>\n",
       "      <td>Dobeles nov.</td>\n",
       "      <td>0.998</td>\n",
       "    </tr>\n",
       "    <tr>\n",
       "      <th>11</th>\n",
       "      <td>Talsu nov.</td>\n",
       "      <td>0.987</td>\n",
       "    </tr>\n",
       "    <tr>\n",
       "      <th>12</th>\n",
       "      <td>Smiltenes nov.</td>\n",
       "      <td>0.854</td>\n",
       "    </tr>\n",
       "    <tr>\n",
       "      <th>13</th>\n",
       "      <td>Kuldīgas nov.</td>\n",
       "      <td>0.851</td>\n",
       "    </tr>\n",
       "    <tr>\n",
       "      <th>14</th>\n",
       "      <td>Dienvidkurzemes nov.</td>\n",
       "      <td>0.785</td>\n",
       "    </tr>\n",
       "    <tr>\n",
       "      <th>15</th>\n",
       "      <td>Limbažu nov.</td>\n",
       "      <td>0.772</td>\n",
       "    </tr>\n",
       "    <tr>\n",
       "      <th>16</th>\n",
       "      <td>Ogres nov.</td>\n",
       "      <td>0.753</td>\n",
       "    </tr>\n",
       "    <tr>\n",
       "      <th>17</th>\n",
       "      <td>Saldus nov.</td>\n",
       "      <td>0.721</td>\n",
       "    </tr>\n",
       "    <tr>\n",
       "      <th>18</th>\n",
       "      <td>Tukuma nov.</td>\n",
       "      <td>0.712</td>\n",
       "    </tr>\n",
       "    <tr>\n",
       "      <th>19</th>\n",
       "      <td>Valmieras nov.</td>\n",
       "      <td>0.688</td>\n",
       "    </tr>\n",
       "    <tr>\n",
       "      <th>20</th>\n",
       "      <td>Bauskas nov.</td>\n",
       "      <td>0.687</td>\n",
       "    </tr>\n",
       "    <tr>\n",
       "      <th>21</th>\n",
       "      <td>Madonas nov.</td>\n",
       "      <td>0.678</td>\n",
       "    </tr>\n",
       "    <tr>\n",
       "      <th>22</th>\n",
       "      <td>Jūrmala</td>\n",
       "      <td>0.624</td>\n",
       "    </tr>\n",
       "    <tr>\n",
       "      <th>23</th>\n",
       "      <td>Salaspils nov.</td>\n",
       "      <td>0.597</td>\n",
       "    </tr>\n",
       "    <tr>\n",
       "      <th>24</th>\n",
       "      <td>Siguldas nov.</td>\n",
       "      <td>0.471</td>\n",
       "    </tr>\n",
       "    <tr>\n",
       "      <th>25</th>\n",
       "      <td>Jēkabpils nov.</td>\n",
       "      <td>0.463</td>\n",
       "    </tr>\n",
       "    <tr>\n",
       "      <th>26</th>\n",
       "      <td>Ludzas nov.</td>\n",
       "      <td>0.462</td>\n",
       "    </tr>\n",
       "    <tr>\n",
       "      <th>27</th>\n",
       "      <td>Mārupes nov.</td>\n",
       "      <td>0.441</td>\n",
       "    </tr>\n",
       "    <tr>\n",
       "      <th>28</th>\n",
       "      <td>Jelgavas nov.</td>\n",
       "      <td>0.440</td>\n",
       "    </tr>\n",
       "    <tr>\n",
       "      <th>29</th>\n",
       "      <td>Cēsu nov.</td>\n",
       "      <td>0.409</td>\n",
       "    </tr>\n",
       "    <tr>\n",
       "      <th>30</th>\n",
       "      <td>Augšdaugavas nov.</td>\n",
       "      <td>0.293</td>\n",
       "    </tr>\n",
       "    <tr>\n",
       "      <th>31</th>\n",
       "      <td>Rēzeknes nov.</td>\n",
       "      <td>0.267</td>\n",
       "    </tr>\n",
       "    <tr>\n",
       "      <th>32</th>\n",
       "      <td>Krāslavas nov.</td>\n",
       "      <td>0.244</td>\n",
       "    </tr>\n",
       "    <tr>\n",
       "      <th>33</th>\n",
       "      <td>Ķekavas nov.</td>\n",
       "      <td>0.228</td>\n",
       "    </tr>\n",
       "    <tr>\n",
       "      <th>34</th>\n",
       "      <td>Līvānu nov.</td>\n",
       "      <td>0.219</td>\n",
       "    </tr>\n",
       "    <tr>\n",
       "      <th>35</th>\n",
       "      <td>Olaines nov.</td>\n",
       "      <td>0.140</td>\n",
       "    </tr>\n",
       "    <tr>\n",
       "      <th>36</th>\n",
       "      <td>Preiļu nov.</td>\n",
       "      <td>0.134</td>\n",
       "    </tr>\n",
       "    <tr>\n",
       "      <th>37</th>\n",
       "      <td>Rīga</td>\n",
       "      <td>0.105</td>\n",
       "    </tr>\n",
       "    <tr>\n",
       "      <th>38</th>\n",
       "      <td>Daugavpils</td>\n",
       "      <td>NaN</td>\n",
       "    </tr>\n",
       "    <tr>\n",
       "      <th>39</th>\n",
       "      <td>Jelgava</td>\n",
       "      <td>NaN</td>\n",
       "    </tr>\n",
       "    <tr>\n",
       "      <th>40</th>\n",
       "      <td>Liepāja</td>\n",
       "      <td>NaN</td>\n",
       "    </tr>\n",
       "    <tr>\n",
       "      <th>41</th>\n",
       "      <td>Rēzekne</td>\n",
       "      <td>NaN</td>\n",
       "    </tr>\n",
       "    <tr>\n",
       "      <th>42</th>\n",
       "      <td>Ventspils</td>\n",
       "      <td>NaN</td>\n",
       "    </tr>\n",
       "  </tbody>\n",
       "</table>\n",
       "</div>"
      ],
      "text/plain": [
       "                  Novads  Procentuālais īpatsvars\n",
       "0        Saulkrastu nov.                    2.848\n",
       "1          Alūksnes nov.                    2.071\n",
       "2            Valkas nov.                    1.963\n",
       "3             Ādažu nov.                    1.789\n",
       "4         Ventspils nov.                    1.784\n",
       "5          Gulbenes nov.                    1.454\n",
       "6            Ropažu nov.                    1.302\n",
       "7         Varakļānu nov.                    1.189\n",
       "8       Aizkraukles nov.                    1.143\n",
       "9             Balvu nov.                    1.110\n",
       "10          Dobeles nov.                    0.998\n",
       "11            Talsu nov.                    0.987\n",
       "12        Smiltenes nov.                    0.854\n",
       "13         Kuldīgas nov.                    0.851\n",
       "14  Dienvidkurzemes nov.                    0.785\n",
       "15          Limbažu nov.                    0.772\n",
       "16            Ogres nov.                    0.753\n",
       "17           Saldus nov.                    0.721\n",
       "18           Tukuma nov.                    0.712\n",
       "19        Valmieras nov.                    0.688\n",
       "20          Bauskas nov.                    0.687\n",
       "21          Madonas nov.                    0.678\n",
       "22               Jūrmala                    0.624\n",
       "23        Salaspils nov.                    0.597\n",
       "24         Siguldas nov.                    0.471\n",
       "25        Jēkabpils nov.                    0.463\n",
       "26           Ludzas nov.                    0.462\n",
       "27          Mārupes nov.                    0.441\n",
       "28         Jelgavas nov.                    0.440\n",
       "29             Cēsu nov.                    0.409\n",
       "30     Augšdaugavas nov.                    0.293\n",
       "31         Rēzeknes nov.                    0.267\n",
       "32        Krāslavas nov.                    0.244\n",
       "33          Ķekavas nov.                    0.228\n",
       "34           Līvānu nov.                    0.219\n",
       "35          Olaines nov.                    0.140\n",
       "36           Preiļu nov.                    0.134\n",
       "37                  Rīga                    0.105\n",
       "38            Daugavpils                      NaN\n",
       "39               Jelgava                      NaN\n",
       "40               Liepāja                      NaN\n",
       "41               Rēzekne                      NaN\n",
       "42             Ventspils                      NaN"
      ]
     },
     "execution_count": 11,
     "metadata": {},
     "output_type": "execute_result"
    }
   ],
   "source": [
    "# Izveidoju karti un tabulu ar mikroliegumu procentuālo īpatsvaru novadu griezumā\n",
    "\n",
    "fig, ax = plt.subplots(figsize=(22,10), facecolor = 'Snow')\n",
    "\n",
    "dati_kartei.plot(\n",
    "    column='Procentuālais īpatsvars', \n",
    "    cmap='spring_r', \n",
    "    ax=ax, \n",
    "    linewidth=0.3,\n",
    "    edgecolor=\"white\",\n",
    "    missing_kwds={\n",
    "        \"color\": \"WhiteSmoke\",\n",
    "        \"edgecolor\": \"LightGrey\", \n",
    "        \"hatch\": \"////\",\n",
    "    },\n",
    ")\n",
    "\n",
    "cbar = plt.colorbar(ax.collections[0], ax=ax, shrink=0.6, aspect=20, pad=0.02)\n",
    "cbar.set_label('%', labelpad=10, fontsize=14)\n",
    "\n",
    "ax.axis('off')\n",
    "plt.title('Mikroliegumu procentuālais īpatsvars novados')\n",
    "\n",
    "plt.show()\n",
    "\n",
    "\n",
    "\n",
    "\n",
    "# Izveidoju tabulu ar aprēķinātajiem mikroliegumu procentiem\n",
    "dati_kartei[['Novads', 'Procentuālais īpatsvars']] \\\n",
    "        .sort_values('Procentuālais īpatsvars', ascending=False) \\\n",
    "        .reset_index(drop=True)"
   ]
  },
  {
   "cell_type": "markdown",
   "id": "aebd9224",
   "metadata": {},
   "source": [
    "# (2) Topoloģijas kļūdu pārskats\n",
    "\n"
   ]
  },
  {
   "cell_type": "code",
   "execution_count": 12,
   "id": "4d5d4e5a",
   "metadata": {},
   "outputs": [
    {
     "data": {
      "text/plain": [
       "['Microreserves', 'TOPO', 'Microres_bufferzones']"
      ]
     },
     "execution_count": 12,
     "metadata": {},
     "output_type": "execute_result"
    }
   ],
   "source": [
    "# Ielādēju ArcGIS ģeodatubāzi (.gdb)\n",
    "gdb_path = 'kartografu_parbaude/parbaude_kart/parbaude/dap.gdb'\n",
    "\n",
    "# Pārskatu pieejamos slāņus\n",
    "layers = fiona.listlayers(gdb_path)\n",
    "layers"
   ]
  },
  {
   "cell_type": "code",
   "execution_count": 13,
   "id": "3abfa461",
   "metadata": {},
   "outputs": [],
   "source": [
    "# Ielādēju 'TOPO' slāni\n",
    "topo = geopandas.read_file(gdb_path, layer='TOPO')"
   ]
  },
  {
   "cell_type": "code",
   "execution_count": 14,
   "id": "d58d6160",
   "metadata": {},
   "outputs": [
    {
     "data": {
      "text/plain": [
       "0"
      ]
     },
     "execution_count": 14,
     "metadata": {},
     "output_type": "execute_result"
    }
   ],
   "source": [
    "# Pārbaudu, vai ir kādi objekti ar dublētām ģeometrijām\n",
    "topo.loc[topo['geometry'].duplicated()].shape[0]"
   ]
  },
  {
   "cell_type": "markdown",
   "id": "b73ed931",
   "metadata": {},
   "source": [
    "***Dublētās ģeometrijas neatrodu***"
   ]
  },
  {
   "cell_type": "code",
   "execution_count": 15,
   "id": "57be6a8b",
   "metadata": {},
   "outputs": [
    {
     "data": {
      "text/plain": [
       "0                                    Valid Geometry\n",
       "1    Ring Self-intersection[590090.366 298456.2985]\n",
       "dtype: object"
      ]
     },
     "execution_count": 15,
     "metadata": {},
     "output_type": "execute_result"
    }
   ],
   "source": [
    "# Pārbaudu ģeometriju derīgumu (vai nav ģeometriskas kļūdas)\n",
    "topo['geometry'].is_valid_reason()"
   ]
  },
  {
   "cell_type": "markdown",
   "id": "d882f3a5",
   "metadata": {},
   "source": [
    "***Kļūda atrasta – pašu krustojošās līnijas***"
   ]
  },
  {
   "cell_type": "code",
   "execution_count": 16,
   "id": "8473cfbb",
   "metadata": {},
   "outputs": [],
   "source": [
    "# Pārbaudu, vai objekti pārklājas savā starpā\n",
    "\n",
    "# Izfiltrēju objektu pārklāšanās gadījumus, tai skaitā mazos nevēlamos attalumus, kuri bieži rodas nepilnīgu robežu dēļ\n",
    "topo['uid'] = topo.index\n",
    "parklajumi = topo.overlay(topo, how='intersection', keep_geom_type=True)\n",
    "parklajumi = parklajumi[parklajumi['uid_1'] != parklajumi['uid_2']]\n",
    "parklajumi = parklajumi[parklajumi.geometry.area > 0]"
   ]
  },
  {
   "cell_type": "code",
   "execution_count": 17,
   "id": "ce6aae63",
   "metadata": {},
   "outputs": [
    {
     "data": {
      "image/png": "[encoded data removed]",
      "text/plain": [
       "<Figure size 900x700 with 1 Axes>"
      ]
     },
     "metadata": {},
     "output_type": "display_data"
    }
   ],
   "source": [
    "# Izveidoju pārskata karti ar atrastajām topoloģijas kļūdām\n",
    "# Definēju leģendu un attēloju karti ar numurētām kļūdām\n",
    "\n",
    "kludas_punkts = [590090.366, 298456.2985]\n",
    "\n",
    "fig, ax = plt.subplots(figsize=(9,7), facecolor = 'Snow')\n",
    "\n",
    "kludaina_geometrija = topo[~topo.is_valid]\n",
    "\n",
    "\n",
    "topo[topo.is_valid].plot(\n",
    "    ax=ax, \n",
    "    color='DeepSkyBlue', \n",
    "    alpha=0.2\n",
    "    )\n",
    "\n",
    "kludaina_geometrija.plot(\n",
    "    ax=ax, \n",
    "    color='red',\n",
    "    alpha=0.1,\n",
    "    linewidth=1,\n",
    "    edgecolor=\"Crimson\"\n",
    "    )\n",
    "\n",
    "parklajumi.plot(\n",
    "    ax=ax,\n",
    "    color='Fuchsia', \n",
    "    linewidth=3,\n",
    "    edgecolor=\"Fuchsia\"\n",
    "    )\n",
    "\n",
    "\n",
    "ax.scatter(kludas_punkts[0], kludas_punkts[1], color='red', marker='o', s=40)\n",
    "\n",
    "\n",
    "legend = [\n",
    "    Line2D([0], [0], marker='o', color='w', label='1. Kļūda ģeometrijā', markerfacecolor='red', markersize=10),\n",
    "    Patch(facecolor='Fuchsia', label='2. Ģeometrijas pārklājas')\n",
    "    ]\n",
    "\n",
    "\n",
    "ax.axis('off')\n",
    "plt.title('Topoloģijas kļūdas')\n",
    "ax.legend(handles=legend)\n",
    "plt.show()"
   ]
  },
  {
   "cell_type": "markdown",
   "id": "4bace1c9",
   "metadata": {},
   "source": [
    "# (3) Meža biotopu statistika valstij piederošās zemēs"
   ]
  },
  {
   "cell_type": "markdown",
   "id": "4f8d6626",
   "metadata": {},
   "source": [
    "#### 1. Izdalu meža biotopus"
   ]
  },
  {
   "cell_type": "code",
   "execution_count": 18,
   "id": "bcf9896c",
   "metadata": {},
   "outputs": [
    {
     "data": {
      "text/plain": [
       "['Biotopi/Biotopi.cpg',\n",
       " 'Biotopi/Biotopi.dbf',\n",
       " 'Biotopi/Biotopi.prj',\n",
       " 'Biotopi/Biotopi.sbn',\n",
       " 'Biotopi/Biotopi.sbx',\n",
       " 'Biotopi/Biotopi.shp',\n",
       " 'Biotopi/Biotopi.shp.xml',\n",
       " 'Biotopi/Biotopi.shx']"
      ]
     },
     "execution_count": 18,
     "metadata": {},
     "output_type": "execute_result"
    }
   ],
   "source": [
    "# Lejupielādēju biotopu telpiskos datus\n",
    "\n",
    "zip_biotopi = 'biotopi03.zip'\n",
    "\n",
    "with ZipFile(zip_biotopi, 'r') as archive:\n",
    "    file_list = archive.namelist()\n",
    "\n",
    "file_list"
   ]
  },
  {
   "cell_type": "code",
   "execution_count": 19,
   "id": "698bcf9f",
   "metadata": {},
   "outputs": [
    {
     "name": "stderr",
     "output_type": "stream",
     "text": [
      "C:\\Users\\igors.liberts\\Anaconda3\\envs\\geo_env\\Lib\\site-packages\\pyogrio\\raw.py:198: RuntimeWarning: organizePolygons() received an unexpected geometry.  Either a polygon with interior rings, or a polygon with less than 4 points, or a non-Polygon geometry.  Return arguments as a collection.\n",
      "  return ogr_read(\n",
      "C:\\Users\\igors.liberts\\Anaconda3\\envs\\geo_env\\Lib\\site-packages\\pyogrio\\raw.py:198: RuntimeWarning: Geometry of polygon of fid 78161 cannot be translated to Simple Geometry. All polygons will be contained in a multipolygon.\n",
      "  return ogr_read(\n",
      "C:\\Users\\igors.liberts\\Anaconda3\\envs\\geo_env\\Lib\\site-packages\\pyogrio\\raw.py:198: RuntimeWarning: Geometry of polygon of fid 117134 cannot be translated to Simple Geometry. All polygons will be contained in a multipolygon.\n",
      "  return ogr_read(\n"
     ]
    }
   ],
   "source": [
    "# Ielādēju ShapeFile\n",
    "biotopi = geopandas.read_file(f'zip://{zip_biotopi}!{'Biotopi/Biotopi.shp'}')"
   ]
  },
  {
   "cell_type": "code",
   "execution_count": 20,
   "id": "3d763e90",
   "metadata": {},
   "outputs": [],
   "source": [
    "# Redzot brīdinājumu, izlaboju ģeometriju kļūdas\n",
    "biotopi['geometry'] = biotopi['geometry'].make_valid()"
   ]
  },
  {
   "cell_type": "code",
   "execution_count": 22,
   "id": "56468603",
   "metadata": {},
   "outputs": [
    {
     "data": {
      "text/html": [
       "<div>\n",
       "<style scoped>\n",
       "    .dataframe tbody tr th:only-of-type {\n",
       "        vertical-align: middle;\n",
       "    }\n",
       "\n",
       "    .dataframe tbody tr th {\n",
       "        vertical-align: top;\n",
       "    }\n",
       "\n",
       "    .dataframe thead th {\n",
       "        text-align: right;\n",
       "    }\n",
       "</style>\n",
       "<table border=\"1\" class=\"dataframe\">\n",
       "  <thead>\n",
       "    <tr style=\"text-align: right;\">\n",
       "      <th></th>\n",
       "      <th>ID</th>\n",
       "      <th>CODE_EC</th>\n",
       "      <th>NAME_EC</th>\n",
       "      <th>VARIANT_EC</th>\n",
       "      <th>STATE</th>\n",
       "      <th>OBS_DATE</th>\n",
       "      <th>GlobalID</th>\n",
       "      <th>FORM_NUMBE</th>\n",
       "      <th>Klase</th>\n",
       "      <th>POLYGON_NU</th>\n",
       "      <th>Shape_Leng</th>\n",
       "      <th>Shape_Area</th>\n",
       "      <th>geometry</th>\n",
       "    </tr>\n",
       "  </thead>\n",
       "  <tbody>\n",
       "    <tr>\n",
       "      <th>1</th>\n",
       "      <td>26386</td>\n",
       "      <td>9010*</td>\n",
       "      <td>Veci vai dabiski boreāli meži</td>\n",
       "      <td>None</td>\n",
       "      <td>0</td>\n",
       "      <td>2007-01-01</td>\n",
       "      <td>{D1B03598-0F05-41AC-8870-1A9E6B14044F}</td>\n",
       "      <td>None</td>\n",
       "      <td>None</td>\n",
       "      <td>None</td>\n",
       "      <td>172.770672</td>\n",
       "      <td>1420.227220</td>\n",
       "      <td>POLYGON ((605225.783 386412.065, 605228.123 38...</td>\n",
       "    </tr>\n",
       "    <tr>\n",
       "      <th>2</th>\n",
       "      <td>26487</td>\n",
       "      <td>9160</td>\n",
       "      <td>Ozolu meži (ozolu, liepu un skābaržu meži)</td>\n",
       "      <td>None</td>\n",
       "      <td>0</td>\n",
       "      <td>2007-01-01</td>\n",
       "      <td>{9ABC32FA-CA52-4A68-8864-2E1DB5924340}</td>\n",
       "      <td>None</td>\n",
       "      <td>None</td>\n",
       "      <td>None</td>\n",
       "      <td>197.664972</td>\n",
       "      <td>1571.761395</td>\n",
       "      <td>POLYGON ((611775.793 387313.097, 611761.94 387...</td>\n",
       "    </tr>\n",
       "    <tr>\n",
       "      <th>3</th>\n",
       "      <td>26976</td>\n",
       "      <td>9180*</td>\n",
       "      <td>Nogāžu un gravu meži</td>\n",
       "      <td>None</td>\n",
       "      <td>0</td>\n",
       "      <td>2007-01-01</td>\n",
       "      <td>{D4332D2C-5F93-467B-AA7D-6CE74C0D5B3C}</td>\n",
       "      <td>None</td>\n",
       "      <td>None</td>\n",
       "      <td>None</td>\n",
       "      <td>365.349995</td>\n",
       "      <td>8603.923231</td>\n",
       "      <td>POLYGON ((621062.327 394945.19, 621063.324 394...</td>\n",
       "    </tr>\n",
       "  </tbody>\n",
       "</table>\n",
       "</div>"
      ],
      "text/plain": [
       "      ID CODE_EC                                     NAME_EC VARIANT_EC  \\\n",
       "1  26386   9010*               Veci vai dabiski boreāli meži       None   \n",
       "2  26487    9160  Ozolu meži (ozolu, liepu un skābaržu meži)       None   \n",
       "3  26976   9180*                        Nogāžu un gravu meži       None   \n",
       "\n",
       "   STATE   OBS_DATE                                GlobalID FORM_NUMBE Klase  \\\n",
       "1      0 2007-01-01  {D1B03598-0F05-41AC-8870-1A9E6B14044F}       None  None   \n",
       "2      0 2007-01-01  {9ABC32FA-CA52-4A68-8864-2E1DB5924340}       None  None   \n",
       "3      0 2007-01-01  {D4332D2C-5F93-467B-AA7D-6CE74C0D5B3C}       None  None   \n",
       "\n",
       "  POLYGON_NU  Shape_Leng   Shape_Area  \\\n",
       "1       None  172.770672  1420.227220   \n",
       "2       None  197.664972  1571.761395   \n",
       "3       None  365.349995  8603.923231   \n",
       "\n",
       "                                            geometry  \n",
       "1  POLYGON ((605225.783 386412.065, 605228.123 38...  \n",
       "2  POLYGON ((611775.793 387313.097, 611761.94 387...  \n",
       "3  POLYGON ((621062.327 394945.19, 621063.324 394...  "
      ]
     },
     "execution_count": 22,
     "metadata": {},
     "output_type": "execute_result"
    }
   ],
   "source": [
    "# Atlasu tikai meža biotopus\n",
    "meza_bt = biotopi.loc[biotopi['CODE_EC'].str[:1] == '9']\n",
    "meza_bt.head(3)"
   ]
  },
  {
   "cell_type": "markdown",
   "id": "9a829ac0",
   "metadata": {},
   "source": [
    "#### 2. Valstij piederošas zemes"
   ]
  },
  {
   "cell_type": "code",
   "execution_count": 25,
   "id": "265b70ed",
   "metadata": {},
   "outputs": [],
   "source": [
    "# Kadastra telpiskos datus lejupielādēju no ArcGIS servisa, jo tie ir ērtāk lietojami nekā Atvērto datu portālā pieejamie\n",
    "\n",
    "# Ielādēju telpiskos datus par atlasītiem valstij piederošiem zemes īpašumiem\n",
    "vzemes = geopandas.read_file('Kadastrs_zemes_valsts.gpkg', columns=['geometry'])"
   ]
  },
  {
   "cell_type": "code",
   "execution_count": 26,
   "id": "3bb5666e",
   "metadata": {},
   "outputs": [
    {
     "data": {
      "text/plain": [
       "5"
      ]
     },
     "execution_count": 26,
     "metadata": {},
     "output_type": "execute_result"
    }
   ],
   "source": [
    "# Kaut gan ielādē nebija brīdinājuma, pārbaudu ģeometriju kļūdas\n",
    "vzemes.loc[~vzemes['geometry'].is_valid].shape[0]"
   ]
  },
  {
   "cell_type": "code",
   "execution_count": 27,
   "id": "65fa1bf8",
   "metadata": {},
   "outputs": [],
   "source": [
    "# Izlaboju konstatētās ģeometriju kļūdas\n",
    "vzemes['geometry'] = vzemes['geometry'].make_valid()"
   ]
  },
  {
   "cell_type": "markdown",
   "id": "fbe35edd",
   "metadata": {},
   "source": [
    "#### 3. Veicu aprēķinus"
   ]
  },
  {
   "cell_type": "code",
   "execution_count": 28,
   "id": "d7727c81",
   "metadata": {},
   "outputs": [],
   "source": [
    "# Ar telpiskās pārklāšanas metodi atlasu meža biotopu teritorijas, kas atrodas valstij piederošās zemēs\n",
    "mbt_vz = meza_bt.overlay(vzemes, how='intersection', keep_geom_type=True)"
   ]
  },
  {
   "cell_type": "code",
   "execution_count": 29,
   "id": "5c139a2d",
   "metadata": {},
   "outputs": [],
   "source": [
    "# Aprēķinu kopējo meža biotopu platību Latvijā\n",
    "mbt_kvm = meza_bt['geometry'].area.sum().astype(int)\n",
    "\n",
    "# Aprēķinu to platību valstij piederošās zemēs\n",
    "mbt_vz_kvm = mbt_vz['geometry'].area.sum().astype(int)\n",
    "mbt_vz_ha = (mbt_vz_kvm / 10000).round(3)\n",
    "\n",
    "# Aprēķinu procentuālo īpatsvaru\n",
    "mbt_proc = ((mbt_vz_kvm / mbt_kvm) * 100).round(3)"
   ]
  },
  {
   "cell_type": "code",
   "execution_count": 30,
   "id": "473b11e3",
   "metadata": {},
   "outputs": [
    {
     "data": {
      "text/html": [
       "<div>\n",
       "<style scoped>\n",
       "    .dataframe tbody tr th:only-of-type {\n",
       "        vertical-align: middle;\n",
       "    }\n",
       "\n",
       "    .dataframe tbody tr th {\n",
       "        vertical-align: top;\n",
       "    }\n",
       "\n",
       "    .dataframe thead th {\n",
       "        text-align: right;\n",
       "    }\n",
       "</style>\n",
       "<table border=\"1\" class=\"dataframe\">\n",
       "  <thead>\n",
       "    <tr style=\"text-align: right;\">\n",
       "      <th></th>\n",
       "      <th>Meža biotopi valstij piederošās zemēs</th>\n",
       "    </tr>\n",
       "  </thead>\n",
       "  <tbody>\n",
       "    <tr>\n",
       "      <th>Platība, ha</th>\n",
       "      <td>32796.494</td>\n",
       "    </tr>\n",
       "    <tr>\n",
       "      <th>Procentuālais īpatsvars (no to kopējās platības)</th>\n",
       "      <td>11.768</td>\n",
       "    </tr>\n",
       "  </tbody>\n",
       "</table>\n",
       "</div>"
      ],
      "text/plain": [
       "                                                 Meža biotopi valstij piederošās zemēs\n",
       "Platība, ha                                                                  32796.494\n",
       "Procentuālais īpatsvars (no to kopējās platības)                                11.768"
      ]
     },
     "execution_count": 30,
     "metadata": {},
     "output_type": "execute_result"
    }
   ],
   "source": [
    "# Izveidoju pārskata tabulu ar rezultātiem\n",
    "\n",
    "df = pd.DataFrame(\n",
    "    [mbt_vz_ha.astype(str), \n",
    "     mbt_proc.astype(str)], \n",
    "    index=['Platība, ha', 'Procentuālais īpatsvars (no to kopējās platības)'], \n",
    "    columns=['Meža biotopi valstij piederošās zemēs']\n",
    "    )\n",
    "\n",
    "df"
   ]
  },
  {
   "cell_type": "markdown",
   "id": "eae6b96e",
   "metadata": {},
   "source": [
    "# (4) Purvu pārskata karte\n",
    "<br>\n",
    "\n",
    "Izveidošu interaktīvu tīmekļa karti, īpašu uzmanību pievēršot tās ātrdarbībai, jo kopējais objektu skaits ir ap 2500. Tā kā lielākajai daļai purvu ir vienāds stāvoklis \"pastāv\" (ko noskaidroju zemāk), atspoguļot to kartē nebūtu pārāk lietderīgi. Līdz ar to lai padarītu karti interesantāku, izveidošu purvu meklētāju pēc piešķirtajiem nosaukumiem, uz kuriem klikšķinot virsū, karte pārvietosies uz konkrētā purva atrašanās vietu."
   ]
  },
  {
   "cell_type": "markdown",
   "id": "957b1d10",
   "metadata": {},
   "source": [
    "#### 1. Datu ielāde"
   ]
  },
  {
   "cell_type": "code",
   "execution_count": 39,
   "id": "8cc68a2a",
   "metadata": {},
   "outputs": [
    {
     "data": {
      "text/html": [
       "<div>\n",
       "<style scoped>\n",
       "    .dataframe tbody tr th:only-of-type {\n",
       "        vertical-align: middle;\n",
       "    }\n",
       "\n",
       "    .dataframe tbody tr th {\n",
       "        vertical-align: top;\n",
       "    }\n",
       "\n",
       "    .dataframe thead th {\n",
       "        text-align: right;\n",
       "    }\n",
       "</style>\n",
       "<table border=\"1\" class=\"dataframe\">\n",
       "  <thead>\n",
       "    <tr style=\"text-align: right;\">\n",
       "      <th></th>\n",
       "      <th>Pamatnosaukums</th>\n",
       "      <th>Objekta ID</th>\n",
       "      <th>Objekta veids</th>\n",
       "      <th>Objekta stāvoklis</th>\n",
       "      <th>Oficiālais nosaukums [avota saīsinājums]</th>\n",
       "      <th>Citi nosaukumi</th>\n",
       "      <th>Administratīvā vai teritoriālā vienība</th>\n",
       "      <th>Ģeogrāfiskais platums</th>\n",
       "      <th>Ģeogrāfiskais garums</th>\n",
       "    </tr>\n",
       "  </thead>\n",
       "  <tbody>\n",
       "    <tr>\n",
       "      <th>0</th>\n",
       "      <td>Astašovas purvs</td>\n",
       "      <td>12</td>\n",
       "      <td>purvs</td>\n",
       "      <td>pastāv</td>\n",
       "      <td>NaN</td>\n",
       "      <td>Dzeguzes ezers;Zagūzes ezers;Zaguzes ezers;Ast...</td>\n",
       "      <td>Andrupenes pagasts, Krāslavas novads, agrāk Kr...</td>\n",
       "      <td>56° 07' 21\"</td>\n",
       "      <td>27° 22' 11\"</td>\n",
       "    </tr>\n",
       "    <tr>\n",
       "      <th>1</th>\n",
       "      <td>Ploču purvs</td>\n",
       "      <td>91</td>\n",
       "      <td>purvs</td>\n",
       "      <td>pastāv</td>\n",
       "      <td>NaN</td>\n",
       "      <td>Ploces purvs;Ploča purvs;Plocis</td>\n",
       "      <td>Vērgales pagasts, Dienvidkurzemes novads, agrā...</td>\n",
       "      <td>56° 40' 06\"</td>\n",
       "      <td>21° 09' 49\"</td>\n",
       "    </tr>\n",
       "    <tr>\n",
       "      <th>2</th>\n",
       "      <td>Gobziņu purvs</td>\n",
       "      <td>134</td>\n",
       "      <td>purvs</td>\n",
       "      <td>pastāv</td>\n",
       "      <td>NaN</td>\n",
       "      <td>NaN</td>\n",
       "      <td>Lažas pagasts, Dienvidkurzemes novads, agrāk L...</td>\n",
       "      <td>56° 48' 22\"</td>\n",
       "      <td>21° 23' 07\"</td>\n",
       "    </tr>\n",
       "  </tbody>\n",
       "</table>\n",
       "</div>"
      ],
      "text/plain": [
       "    Pamatnosaukums  Objekta ID Objekta veids Objekta stāvoklis  \\\n",
       "0  Astašovas purvs          12         purvs            pastāv   \n",
       "1      Ploču purvs          91         purvs            pastāv   \n",
       "2    Gobziņu purvs         134         purvs            pastāv   \n",
       "\n",
       "  Oficiālais nosaukums [avota saīsinājums]  \\\n",
       "0                                      NaN   \n",
       "1                                      NaN   \n",
       "2                                      NaN   \n",
       "\n",
       "                                      Citi nosaukumi  \\\n",
       "0  Dzeguzes ezers;Zagūzes ezers;Zaguzes ezers;Ast...   \n",
       "1                    Ploces purvs;Ploča purvs;Plocis   \n",
       "2                                                NaN   \n",
       "\n",
       "              Administratīvā vai teritoriālā vienība Ģeogrāfiskais platums  \\\n",
       "0  Andrupenes pagasts, Krāslavas novads, agrāk Kr...           56° 07' 21\"   \n",
       "1  Vērgales pagasts, Dienvidkurzemes novads, agrā...           56° 40' 06\"   \n",
       "2  Lažas pagasts, Dienvidkurzemes novads, agrāk L...           56° 48' 22\"   \n",
       "\n",
       "  Ģeogrāfiskais garums  \n",
       "0          27° 22' 11\"  \n",
       "1          21° 09' 49\"  \n",
       "2          21° 23' 07\"  "
      ]
     },
     "execution_count": 39,
     "metadata": {},
     "output_type": "execute_result"
    }
   ],
   "source": [
    "# Ielādēju Excel datni\n",
    "purvi = pd.read_excel('VDB_saraksts.xlsx', header=2)\n",
    "purvi.head(3)"
   ]
  },
  {
   "cell_type": "markdown",
   "id": "9e7fe26f",
   "metadata": {},
   "source": [
    "#### 2. Datu apskats un pārbaude"
   ]
  },
  {
   "cell_type": "code",
   "execution_count": 40,
   "id": "d8482fde",
   "metadata": {},
   "outputs": [
    {
     "data": {
      "text/plain": [
       "2485"
      ]
     },
     "execution_count": 40,
     "metadata": {},
     "output_type": "execute_result"
    }
   ],
   "source": [
    "# Pārbaudu ierakstu skaitu\n",
    "purvi.shape[0]"
   ]
  },
  {
   "cell_type": "code",
   "execution_count": 41,
   "id": "6a64e537",
   "metadata": {},
   "outputs": [
    {
     "name": "stdout",
     "output_type": "stream",
     "text": [
      "11\n",
      "11\n"
     ]
    }
   ],
   "source": [
    "# Pārbaudu datu kvalitāti – vai koordinātu formāts ir konsekvents\n",
    "\n",
    "print(purvi['Ģeogrāfiskais platums'].str.len().unique()[0])\n",
    "print(purvi['Ģeogrāfiskais garums'].str.len().unique()[0])"
   ]
  },
  {
   "cell_type": "code",
   "execution_count": 42,
   "id": "60230be4",
   "metadata": {},
   "outputs": [
    {
     "data": {
      "text/plain": [
       "0"
      ]
     },
     "execution_count": 42,
     "metadata": {},
     "output_type": "execute_result"
    }
   ],
   "source": [
    "# Pārbaudu, vai nav dublētu koordinātu\n",
    "purvi.loc[purvi.duplicated(['Ģeogrāfiskais platums', 'Ģeogrāfiskais garums'])].shape[0]"
   ]
  },
  {
   "cell_type": "code",
   "execution_count": 43,
   "id": "cf83d369",
   "metadata": {},
   "outputs": [
    {
     "data": {
      "text/plain": [
       "<Axes: xlabel='Objekta stāvoklis', ylabel='Percent'>"
      ]
     },
     "execution_count": 43,
     "metadata": {},
     "output_type": "execute_result"
    },
    {
     "data": {
      "image/png": "[encoded data removed]",
      "text/plain": [
       "<Figure size 640x480 with 1 Axes>"
      ]
     },
     "metadata": {},
     "output_type": "display_data"
    }
   ],
   "source": [
    "# Apskatu vērtību sadalījumu kolonnā 'Objekta stāvoklis'\n",
    "sns.histplot(purvi, x='Objekta stāvoklis', stat=\"percent\", shrink=.8)"
   ]
  },
  {
   "cell_type": "markdown",
   "id": "01c16962",
   "metadata": {},
   "source": [
    "#### 3. Datu apstrāde"
   ]
  },
  {
   "cell_type": "code",
   "execution_count": 44,
   "id": "b9cc1f3f",
   "metadata": {},
   "outputs": [],
   "source": [
    "# Konvertēju ģeogrāfiskās koordinātes no DMS uz DD formātu\n",
    "\n",
    "purvi['lat'] = purvi['Ģeogrāfiskais platums'].str[:2].astype(int) + \\\n",
    "                (purvi['Ģeogrāfiskais platums'].str[4:6].astype(int) / 60) + \\\n",
    "                (purvi['Ģeogrāfiskais platums'].str[8:10].astype(int) / 3600)\n",
    "\n",
    "purvi['lon'] = purvi['Ģeogrāfiskais garums'].str[:2].astype(int) + \\\n",
    "            (purvi['Ģeogrāfiskais garums'].str[4:6].astype(int) / 60) + \\\n",
    "            (purvi['Ģeogrāfiskais garums'].str[8:10].astype(int) / 3600)"
   ]
  },
  {
   "cell_type": "code",
   "execution_count": 45,
   "id": "70faf82a",
   "metadata": {},
   "outputs": [
    {
     "data": {
      "text/html": [
       "<div>\n",
       "<style scoped>\n",
       "    .dataframe tbody tr th:only-of-type {\n",
       "        vertical-align: middle;\n",
       "    }\n",
       "\n",
       "    .dataframe tbody tr th {\n",
       "        vertical-align: top;\n",
       "    }\n",
       "\n",
       "    .dataframe thead th {\n",
       "        text-align: right;\n",
       "    }\n",
       "</style>\n",
       "<table border=\"1\" class=\"dataframe\">\n",
       "  <thead>\n",
       "    <tr style=\"text-align: right;\">\n",
       "      <th></th>\n",
       "      <th>name</th>\n",
       "      <th>geometry</th>\n",
       "    </tr>\n",
       "  </thead>\n",
       "  <tbody>\n",
       "    <tr>\n",
       "      <th>0</th>\n",
       "      <td>Astašovas purvs</td>\n",
       "      <td>POINT (27.36972 56.1225)</td>\n",
       "    </tr>\n",
       "    <tr>\n",
       "      <th>1</th>\n",
       "      <td>Ploču purvs</td>\n",
       "      <td>POINT (21.16361 56.66833)</td>\n",
       "    </tr>\n",
       "    <tr>\n",
       "      <th>2</th>\n",
       "      <td>Gobziņu purvs</td>\n",
       "      <td>POINT (21.38528 56.80611)</td>\n",
       "    </tr>\n",
       "  </tbody>\n",
       "</table>\n",
       "</div>"
      ],
      "text/plain": [
       "              name                   geometry\n",
       "0  Astašovas purvs   POINT (27.36972 56.1225)\n",
       "1      Ploču purvs  POINT (21.16361 56.66833)\n",
       "2    Gobziņu purvs  POINT (21.38528 56.80611)"
      ]
     },
     "execution_count": 45,
     "metadata": {},
     "output_type": "execute_result"
    }
   ],
   "source": [
    "# Izveidoju ģeometriju un pārveidoju datus par GeoDataFrame\n",
    "purvi['geometry'] = geopandas.points_from_xy(purvi['lon'], purvi['lat'], crs='4326')\n",
    "purvi = geopandas.GeoDataFrame(purvi, geometry=purvi['geometry'])\n",
    "\n",
    "# Pārdēvēju nosaukuma kolonnu un atstāju tikai nepieciešamos laukus\n",
    "purvi = purvi.rename(columns={'Pamatnosaukums': 'name'})\n",
    "purvi = purvi[['name', 'geometry']]\n",
    "\n",
    "# Noņemu iespējamās liekās atstarpes no nosaukumiem\n",
    "purvi['name'] = purvi['name'].str.strip()\n",
    "\n",
    "purvi.head(3)"
   ]
  },
  {
   "cell_type": "code",
   "execution_count": 46,
   "id": "cd5fbde1",
   "metadata": {},
   "outputs": [],
   "source": [
    "# Saglabāju kā JSON priekš tīmekļa kartes\n",
    "purvi.to_file('purvi.json', driver=\"GeoJSON\")"
   ]
  },
  {
   "cell_type": "markdown",
   "id": "6c47cac6",
   "metadata": {},
   "source": [
    "#### 4. Kartes izveide\n",
    "\n",
    "Uz React Leaflet bāzes izstrādāju web karti: [https://latvijas-purvu-karte.vercel.app/](https://latvijas-purvu-karte.vercel.app/)</b>"
   ]
  },
  {
   "cell_type": "code",
   "execution_count": null,
   "id": "73bb0dc6",
   "metadata": {},
   "outputs": [],
   "source": []
  }
 ],
 "metadata": {
  "kernelspec": {
   "display_name": "geo_env",
   "language": "python",
   "name": "geo_env"
  },
  "language_info": {
   "codemirror_mode": {
    "name": "ipython",
    "version": 3
   },
   "file_extension": ".py",
   "mimetype": "text/x-python",
   "name": "python",
   "nbconvert_exporter": "python",
   "pygments_lexer": "ipython3",
   "version": "3.12.9"
  }
 },
 "nbformat": 4,
 "nbformat_minor": 5
}
